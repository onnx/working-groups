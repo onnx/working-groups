{
  "nbformat": 4,
  "nbformat_minor": 0,
  "metadata": {
    "colab": {
      "provenance": [],
      "authorship_tag": "ABX9TyP+i8qgZsjFhcbLt3N58Sdn",
      "include_colab_link": true
    },
    "kernelspec": {
      "name": "python3",
      "display_name": "Python 3"
    },
    "language_info": {
      "name": "python"
    }
  },
  "cells": [
    {
      "cell_type": "markdown",
      "metadata": {
        "id": "view-in-github",
        "colab_type": "text"
      },
      "source": [
        "<a href=\"https://colab.research.google.com/github/ericjenn/working-groups/blob/ericjenn-srpwg-wg1/safety-related-profile/documents/profile_opset/div/div.ipynb\" target=\"_parent\"><img src=\"https://colab.research.google.com/assets/colab-badge.svg\" alt=\"Open In Colab\"/></a>"
      ]
    },
    {
      "cell_type": "code",
      "execution_count": null,
      "metadata": {
        "colab": {
          "base_uri": "https://localhost:8080/"
        },
        "id": "rEKyVwTun7hf",
        "outputId": "56e0c81b-6aeb-4e95-f638-b7afb0dcd870"
      },
      "outputs": [
        {
          "output_type": "stream",
          "name": "stdout",
          "text": [
            "Requirement already satisfied: onnx in /usr/local/lib/python3.11/dist-packages (1.17.0)\n",
            "Requirement already satisfied: onnxruntime in /usr/local/lib/python3.11/dist-packages (1.20.1)\n",
            "Requirement already satisfied: numpy>=1.20 in /usr/local/lib/python3.11/dist-packages (from onnx) (1.26.4)\n",
            "Requirement already satisfied: protobuf>=3.20.2 in /usr/local/lib/python3.11/dist-packages (from onnx) (4.25.6)\n",
            "Requirement already satisfied: coloredlogs in /usr/local/lib/python3.11/dist-packages (from onnxruntime) (15.0.1)\n",
            "Requirement already satisfied: flatbuffers in /usr/local/lib/python3.11/dist-packages (from onnxruntime) (25.2.10)\n",
            "Requirement already satisfied: packaging in /usr/local/lib/python3.11/dist-packages (from onnxruntime) (24.2)\n",
            "Requirement already satisfied: sympy in /usr/local/lib/python3.11/dist-packages (from onnxruntime) (1.13.1)\n",
            "Requirement already satisfied: humanfriendly>=9.1 in /usr/local/lib/python3.11/dist-packages (from coloredlogs->onnxruntime) (10.0)\n",
            "Requirement already satisfied: mpmath<1.4,>=1.1.0 in /usr/local/lib/python3.11/dist-packages (from sympy->onnxruntime) (1.3.0)\n"
          ]
        }
      ],
      "source": [
        "\n",
        "!pip install onnx onnxruntime\n"
      ]
    },
    {
      "cell_type": "code",
      "source": [
        "import onnx\n",
        "import onnxruntime as ort\n",
        "import numpy as np\n",
        "\n",
        "# Define input and output tensor names\n",
        "input1_name = \"X\"\n",
        "input2_name = \"Y\"\n",
        "div_output_name = \"DivOutput\"\n",
        "\n",
        "#-------------------------------------------------------------------------------\n",
        "# 2 rank input tensor\n",
        "#-------------------------------------------------------------------------------\n",
        "\n",
        "# Create 2-rank input tensors (two inputs for division)\n",
        "input1 = onnx.helper.make_tensor_value_info(input1_name, onnx.TensorProto.FLOAT, [None, None])\n",
        "input2 = onnx.helper.make_tensor_value_info(input2_name, onnx.TensorProto.FLOAT, [None, None])\n",
        "\n",
        "# Create output tensor (final result after div operation)\n",
        "div_output = onnx.helper.make_tensor_value_info(div_output_name, onnx.TensorProto.FLOAT, [None, None])\n",
        "\n",
        "# Define division node: Z = X / Y\n",
        "div_node = onnx.helper.make_node(\"Div\", [input1_name, input2_name], [div_output_name])\n",
        "\n",
        "# Create the ONNX graph\n",
        "graph = onnx.helper.make_graph(\n",
        "    nodes=[div_node],\n",
        "    name=\"Div\",\n",
        "    inputs=[input1, input2],\n",
        "    outputs=[div_output]\n",
        ")\n",
        "\n",
        "# Create the ONNX model\n",
        "model = onnx.helper.make_model(graph, opset_imports=[onnx.helper.make_opsetid(\"\", 13)]) # Explicitly set opset to 13\n",
        "onnx.checker.check_model(model)\n",
        "\n",
        "# Save the model\n",
        "onnx.save(model, \"div.onnx\")\n",
        "\n",
        "# Load and run the model using ONNX Runtime\n",
        "session = ort.InferenceSession(\"div.onnx\")\n",
        "\n",
        "def do_div(x,y):\n",
        "  # Run inference\n",
        "  output = session.run(None, {input1_name: x, input2_name: y})\n",
        "\n",
        "  x_f=(np.array2string(x, separator=',', max_line_width=np.inf).replace('\\n', ''))\n",
        "  y_f=(np.array2string(y, separator=',', max_line_width=np.inf).replace('\\n', ''))\n",
        "  o_f=(np.array2string(output[0], separator=',', max_line_width=np.inf).replace('\\n', ''))\n",
        "\n",
        "  # Display results\n",
        "  print(f\"X={x_f}, Y={y_f}\")\n",
        "  print(f\"Result: X/Y={o_f}\")\n",
        "\n",
        "np.set_printoptions(precision=None, floatmode='fixed')\n",
        "\n",
        "\n",
        "#--------------------------------------------------------------------\n",
        "# Nominal cases\n",
        "#--------------------------------------------------------------------\n",
        "\n",
        "# Case N1: 2-rank tensor (float32)\n",
        "x = np.array([[1.0, 2.0],[3.0, 4.0]], dtype=np.float32)\n",
        "y = np.array([[3.0, 4.0],[5.0, 6.0]], dtype=np.float32)\n",
        "\n",
        "# Run inference\n",
        "do_div(x,y)\n",
        "\n",
        "#--------------------------------------------------------------------\n",
        "# Non nominal cases (nan and inf values)\n",
        "#--------------------------------------------------------------------\n",
        "\n",
        "v=[1, 0, float(\"inf\"), float(\"nan\")]\n",
        "\n",
        "for x in v:\n",
        "  for y in v:\n",
        "    x_np = np.array([[x],[x]], dtype=np.float32)\n",
        "    y_np = np.array([[y],[y]], dtype=np.float32)\n",
        "    do_div(x_np,y_np)\n",
        "\n"
      ],
      "metadata": {
        "colab": {
          "base_uri": "https://localhost:8080/"
        },
        "id": "cYvhVMxXoRwo",
        "outputId": "e9e35640-cabf-4728-f877-f152435eab0e"
      },
      "execution_count": 46,
      "outputs": [
        {
          "output_type": "stream",
          "name": "stdout",
          "text": [
            "X=[[1.00000000000000000000000000000000,2.00000000000000000000000000000000], [3.00000000000000000000000000000000,4.00000000000000000000000000000000]], Y=[[3.00000000000000000000000000000000,4.00000000000000000000000000000000], [5.00000000000000000000000000000000,6.00000000000000000000000000000000]]\n",
            "Result: X/Y=[[0.33333334326744079589843750000000,0.50000000000000000000000000000000], [0.60000002384185791015625000000000,0.66666668653488159179687500000000]]\n",
            "X=[[1.00000000000000000000000000000000], [1.00000000000000000000000000000000]], Y=[[1.00000000000000000000000000000000], [1.00000000000000000000000000000000]]\n",
            "Result: X/Y=[[1.00000000000000000000000000000000], [1.00000000000000000000000000000000]]\n",
            "X=[[1.00000000000000000000000000000000], [1.00000000000000000000000000000000]], Y=[[0.00000000000000000000000000000000], [0.00000000000000000000000000000000]]\n",
            "Result: X/Y=[[inf], [inf]]\n",
            "X=[[1.00000000000000000000000000000000], [1.00000000000000000000000000000000]], Y=[[inf], [inf]]\n",
            "Result: X/Y=[[0.00000000000000000000000000000000], [0.00000000000000000000000000000000]]\n",
            "X=[[1.00000000000000000000000000000000], [1.00000000000000000000000000000000]], Y=[[nan], [nan]]\n",
            "Result: X/Y=[[nan], [nan]]\n",
            "X=[[0.00000000000000000000000000000000], [0.00000000000000000000000000000000]], Y=[[1.00000000000000000000000000000000], [1.00000000000000000000000000000000]]\n",
            "Result: X/Y=[[0.00000000000000000000000000000000], [0.00000000000000000000000000000000]]\n",
            "X=[[0.00000000000000000000000000000000], [0.00000000000000000000000000000000]], Y=[[0.00000000000000000000000000000000], [0.00000000000000000000000000000000]]\n",
            "Result: X/Y=[[nan], [nan]]\n",
            "X=[[0.00000000000000000000000000000000], [0.00000000000000000000000000000000]], Y=[[inf], [inf]]\n",
            "Result: X/Y=[[0.00000000000000000000000000000000], [0.00000000000000000000000000000000]]\n",
            "X=[[0.00000000000000000000000000000000], [0.00000000000000000000000000000000]], Y=[[nan], [nan]]\n",
            "Result: X/Y=[[nan], [nan]]\n",
            "X=[[inf], [inf]], Y=[[1.00000000000000000000000000000000], [1.00000000000000000000000000000000]]\n",
            "Result: X/Y=[[inf], [inf]]\n",
            "X=[[inf], [inf]], Y=[[0.00000000000000000000000000000000], [0.00000000000000000000000000000000]]\n",
            "Result: X/Y=[[inf], [inf]]\n",
            "X=[[inf], [inf]], Y=[[inf], [inf]]\n",
            "Result: X/Y=[[nan], [nan]]\n",
            "X=[[inf], [inf]], Y=[[nan], [nan]]\n",
            "Result: X/Y=[[nan], [nan]]\n",
            "X=[[nan], [nan]], Y=[[1.00000000000000000000000000000000], [1.00000000000000000000000000000000]]\n",
            "Result: X/Y=[[nan], [nan]]\n",
            "X=[[nan], [nan]], Y=[[0.00000000000000000000000000000000], [0.00000000000000000000000000000000]]\n",
            "Result: X/Y=[[nan], [nan]]\n",
            "X=[[nan], [nan]], Y=[[inf], [inf]]\n",
            "Result: X/Y=[[nan], [nan]]\n",
            "X=[[nan], [nan]], Y=[[nan], [nan]]\n",
            "Result: X/Y=[[nan], [nan]]\n"
          ]
        }
      ]
    }
  ]
}