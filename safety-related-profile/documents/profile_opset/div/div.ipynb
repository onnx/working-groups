{
  "cells": [
    {
      "cell_type": "markdown",
      "metadata": {
        "colab_type": "text",
        "id": "view-in-github"
      },
      "source": [
        "<a href=\"https://colab.research.google.com/github/ericjenn/working-groups/blob/ericjenn-srpwg-wg1/safety-related-profile/documents/profile_opset/div.ipynb\" target=\"_parent\"><img src=\"https://colab.research.google.com/assets/colab-badge.svg\" alt=\"Open In Colab\"/></a>"
      ]
    },
    {
      "cell_type": "code",
      "execution_count": null,
      "metadata": {
        "colab": {
          "base_uri": "https://localhost:8080/"
        },
        "id": "rEKyVwTun7hf",
        "outputId": "840206c2-dd6b-4b34-9b98-34f9a265e009"
      },
      "outputs": [],
      "source": [
        "\n",
        "!pip install onnx onnxruntime\n"
      ]
    },
    {
      "cell_type": "code",
      "execution_count": 10,
      "metadata": {
        "colab": {
          "base_uri": "https://localhost:8080/"
        },
        "id": "cYvhVMxXoRwo",
        "outputId": "9e3cac2d-9745-4bd3-eef4-678609d1b674"
      },
      "outputs": [
        {
          "name": "stdout",
          "output_type": "stream",
          "text": [
            "Case 1: X=[0.], Y=[0.]\n",
            "Result: X/Y = [nan] (Div result)\n",
            "Case 2: X=[1.], Y=[0.]\n",
            "Result X/Y=[inf] (Div result)\n"
          ]
        }
      ],
      "source": [
        "import onnx\n",
        "import onnxruntime as ort\n",
        "import numpy as np\n",
        "\n",
        "# Define input and output tensor names\n",
        "input1_name = \"X\"\n",
        "input2_name = \"Y\"\n",
        "div_output_name = \"DivOutput\"\n",
        "\n",
        "# Create input tensor (two inputs for subtraction)\n",
        "input1 = onnx.helper.make_tensor_value_info(input1_name, onnx.TensorProto.FLOAT, [None])\n",
        "input2 = onnx.helper.make_tensor_value_info(input2_name, onnx.TensorProto.FLOAT, [None])\n",
        "\n",
        "# Create output tensor (final result after log operation)\n",
        "div_output = onnx.helper.make_tensor_value_info(div_output_name, onnx.TensorProto.FLOAT, [None])\n",
        "\n",
        "# Define Subtraction node: Z = X - Y\n",
        "div_node = onnx.helper.make_node(\"Div\", [input1_name, input2_name], [div_output_name])\n",
        "\n",
        "# Create the ONNX graph\n",
        "graph = onnx.helper.make_graph(\n",
        "    nodes=[div_node],\n",
        "    name=\"DivExample\",\n",
        "    inputs=[input1, input2],\n",
        "    outputs=[div_output]\n",
        ")\n",
        "\n",
        "# Create the ONNX model\n",
        "model = onnx.helper.make_model(graph, opset_imports=[onnx.helper.make_opsetid(\"\", 13)]) # Explicitly set opset to 13\n",
        "onnx.checker.check_model(model)\n",
        "\n",
        "# Save the model\n",
        "onnx.save(model, \"div.onnx\")\n",
        "\n",
        "# Load and run the model using ONNX Runtime\n",
        "session = ort.InferenceSession(\"div.onnx\")\n",
        "\n",
        "# Case 1: 0/0\n",
        "# Define input values\n",
        "X_val = np.array([0.0], dtype=np.float32)\n",
        "Y_val = np.array([0.0], dtype=np.float32)\n",
        "\n",
        "# Run inference\n",
        "outputs = session.run(None, {input1_name: X_val, input2_name: Y_val})\n",
        "\n",
        "# Display results\n",
        "print(f\"Case 1: X={X_val}, Y={Y_val}\")\n",
        "print(f\"Result: X/Y={outputs[0]} (Div result)\")\n",
        "\n",
        "# Case 2: 1/0\n",
        "# Define input values\n",
        "X_val = np.array([1.0], dtype=np.float32)\n",
        "Y_val = np.array([0.0], dtype=np.float32)\n",
        "\n",
        "# Run inference\n",
        "outputs = session.run(None, {input1_name: X_val, input2_name: Y_val})\n",
        "\n",
        "# Display results\n",
        "print(f\"Case 2: X={X_val}, Y={Y_val}\")\n",
        "print(f\"Result X/Y={outputs[0]} (Div result)\")\n"
      ]
    }
  ],
  "metadata": {
    "colab": {
      "authorship_tag": "ABX9TyMmBHYqbZH00DS7ZTb5q4mL",
      "include_colab_link": true,
      "mount_file_id": "1j9VlF-uYN4AitOglPkTWsvjoRe4L9-qb",
      "provenance": []
    },
    "kernelspec": {
      "display_name": "Python 3",
      "name": "python3"
    },
    "language_info": {
      "name": "python"
    }
  },
  "nbformat": 4,
  "nbformat_minor": 0
}
