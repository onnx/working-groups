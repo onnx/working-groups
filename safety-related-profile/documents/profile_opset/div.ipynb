{
  "nbformat": 4,
  "nbformat_minor": 0,
  "metadata": {
    "colab": {
      "provenance": [],
      "mount_file_id": "1j9VlF-uYN4AitOglPkTWsvjoRe4L9-qb",
      "authorship_tag": "ABX9TyMmBHYqbZH00DS7ZTb5q4mL",
      "include_colab_link": true
    },
    "kernelspec": {
      "name": "python3",
      "display_name": "Python 3"
    },
    "language_info": {
      "name": "python"
    }
  },
  "cells": [
    {
      "cell_type": "markdown",
      "metadata": {
        "id": "view-in-github",
        "colab_type": "text"
      },
      "source": [
        "<a href=\"https://colab.research.google.com/github/ericjenn/working-groups/blob/ericjenn-srpwg-wg1/safety-related-profile/documents/profile_opset/div.ipynb\" target=\"_parent\"><img src=\"https://colab.research.google.com/assets/colab-badge.svg\" alt=\"Open In Colab\"/></a>"
      ]
    },
    {
      "cell_type": "code",
      "execution_count": 5,
      "metadata": {
        "colab": {
          "base_uri": "https://localhost:8080/"
        },
        "id": "rEKyVwTun7hf",
        "outputId": "840206c2-dd6b-4b34-9b98-34f9a265e009"
      },
      "outputs": [
        {
          "output_type": "stream",
          "name": "stdout",
          "text": [
            "Collecting onnx\n",
            "  Downloading onnx-1.17.0-cp311-cp311-manylinux_2_17_x86_64.manylinux2014_x86_64.whl.metadata (16 kB)\n",
            "Collecting onnxruntime\n",
            "  Downloading onnxruntime-1.20.1-cp311-cp311-manylinux_2_27_x86_64.manylinux_2_28_x86_64.whl.metadata (4.5 kB)\n",
            "Requirement already satisfied: numpy>=1.20 in /usr/local/lib/python3.11/dist-packages (from onnx) (1.26.4)\n",
            "Requirement already satisfied: protobuf>=3.20.2 in /usr/local/lib/python3.11/dist-packages (from onnx) (4.25.6)\n",
            "Collecting coloredlogs (from onnxruntime)\n",
            "  Downloading coloredlogs-15.0.1-py2.py3-none-any.whl.metadata (12 kB)\n",
            "Requirement already satisfied: flatbuffers in /usr/local/lib/python3.11/dist-packages (from onnxruntime) (25.1.24)\n",
            "Requirement already satisfied: packaging in /usr/local/lib/python3.11/dist-packages (from onnxruntime) (24.2)\n",
            "Requirement already satisfied: sympy in /usr/local/lib/python3.11/dist-packages (from onnxruntime) (1.13.1)\n",
            "Collecting humanfriendly>=9.1 (from coloredlogs->onnxruntime)\n",
            "  Downloading humanfriendly-10.0-py2.py3-none-any.whl.metadata (9.2 kB)\n",
            "Requirement already satisfied: mpmath<1.4,>=1.1.0 in /usr/local/lib/python3.11/dist-packages (from sympy->onnxruntime) (1.3.0)\n",
            "Downloading onnx-1.17.0-cp311-cp311-manylinux_2_17_x86_64.manylinux2014_x86_64.whl (16.0 MB)\n",
            "\u001b[2K   \u001b[90m━━━━━━━━━━━━━━━━━━━━━━━━━━━━━━━━━━━━━━━━\u001b[0m \u001b[32m16.0/16.0 MB\u001b[0m \u001b[31m49.8 MB/s\u001b[0m eta \u001b[36m0:00:00\u001b[0m\n",
            "\u001b[?25hDownloading onnxruntime-1.20.1-cp311-cp311-manylinux_2_27_x86_64.manylinux_2_28_x86_64.whl (13.3 MB)\n",
            "\u001b[2K   \u001b[90m━━━━━━━━━━━━━━━━━━━━━━━━━━━━━━━━━━━━━━━━\u001b[0m \u001b[32m13.3/13.3 MB\u001b[0m \u001b[31m64.6 MB/s\u001b[0m eta \u001b[36m0:00:00\u001b[0m\n",
            "\u001b[?25hDownloading coloredlogs-15.0.1-py2.py3-none-any.whl (46 kB)\n",
            "\u001b[2K   \u001b[90m━━━━━━━━━━━━━━━━━━━━━━━━━━━━━━━━━━━━━━━━\u001b[0m \u001b[32m46.0/46.0 kB\u001b[0m \u001b[31m3.4 MB/s\u001b[0m eta \u001b[36m0:00:00\u001b[0m\n",
            "\u001b[?25hDownloading humanfriendly-10.0-py2.py3-none-any.whl (86 kB)\n",
            "\u001b[2K   \u001b[90m━━━━━━━━━━━━━━━━━━━━━━━━━━━━━━━━━━━━━━━━\u001b[0m \u001b[32m86.8/86.8 kB\u001b[0m \u001b[31m8.3 MB/s\u001b[0m eta \u001b[36m0:00:00\u001b[0m\n",
            "\u001b[?25hInstalling collected packages: onnx, humanfriendly, coloredlogs, onnxruntime\n",
            "Successfully installed coloredlogs-15.0.1 humanfriendly-10.0 onnx-1.17.0 onnxruntime-1.20.1\n"
          ]
        }
      ],
      "source": [
        "\n",
        "!pip install onnx onnxruntime\n"
      ]
    },
    {
      "cell_type": "code",
      "source": [
        "import onnx\n",
        "import onnxruntime as ort\n",
        "import numpy as np\n",
        "\n",
        "# Define input and output tensor names\n",
        "input1_name = \"X\"\n",
        "input2_name = \"Y\"\n",
        "div_output_name = \"DivOutput\"\n",
        "\n",
        "# Create input tensor (two inputs for subtraction)\n",
        "input1 = onnx.helper.make_tensor_value_info(input1_name, onnx.TensorProto.FLOAT, [None])\n",
        "input2 = onnx.helper.make_tensor_value_info(input2_name, onnx.TensorProto.FLOAT, [None])\n",
        "\n",
        "# Create output tensor (final result after log operation)\n",
        "div_output = onnx.helper.make_tensor_value_info(div_output_name, onnx.TensorProto.FLOAT, [None])\n",
        "\n",
        "# Define Subtraction node: Z = X - Y\n",
        "div_node = onnx.helper.make_node(\"Div\", [input1_name, input2_name], [div_output_name])\n",
        "\n",
        "# Create the ONNX graph\n",
        "graph = onnx.helper.make_graph(\n",
        "    nodes=[div_node],\n",
        "    name=\"DivExample\",\n",
        "    inputs=[input1, input2],\n",
        "    outputs=[div_output]\n",
        ")\n",
        "\n",
        "# Create the ONNX model\n",
        "model = onnx.helper.make_model(graph, opset_imports=[onnx.helper.make_opsetid(\"\", 13)]) # Explicitly set opset to 13\n",
        "onnx.checker.check_model(model)\n",
        "\n",
        "# Save the model\n",
        "onnx.save(model, \"div.onnx\")\n",
        "\n",
        "# Load and run the model using ONNX Runtime\n",
        "session = ort.InferenceSession(\"div.onnx\")\n",
        "\n",
        "# Case 1: 0/0\n",
        "# Define input values\n",
        "X_val = np.array([0.0], dtype=np.float32)\n",
        "Y_val = np.array([0.0], dtype=np.float32)\n",
        "\n",
        "# Run inference\n",
        "outputs = session.run(None, {input1_name: X_val, input2_name: Y_val})\n",
        "\n",
        "# Display results\n",
        "print(f\"Case 1: X={X_val}, Y={Y_val}\")\n",
        "print(f\"Result: X/Y={outputs[0]} (Div result)\")\n",
        "\n",
        "# Case 2: 1/0\n",
        "# Define input values\n",
        "X_val = np.array([1.0], dtype=np.float32)\n",
        "Y_val = np.array([0.0], dtype=np.float32)\n",
        "\n",
        "# Run inference\n",
        "outputs = session.run(None, {input1_name: X_val, input2_name: Y_val})\n",
        "\n",
        "# Display results\n",
        "print(f\"Case 2: X={X_val}, Y={Y_val}\")\n",
        "print(f\"Result X/Y={outputs[0]} (Div result)\")\n"
      ],
      "metadata": {
        "colab": {
          "base_uri": "https://localhost:8080/"
        },
        "id": "cYvhVMxXoRwo",
        "outputId": "9e3cac2d-9745-4bd3-eef4-678609d1b674"
      },
      "execution_count": 10,
      "outputs": [
        {
          "output_type": "stream",
          "name": "stdout",
          "text": [
            "Case 1: X=[0.], Y=[0.]\n",
            "Result: X/Y = [nan] (Div result)\n",
            "Case 2: X=[1.], Y=[0.]\n",
            "Result X/Y=[inf] (Div result)\n"
          ]
        }
      ]
    }
  ]
}